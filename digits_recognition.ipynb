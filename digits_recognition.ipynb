{
  "nbformat": 4,
  "nbformat_minor": 0,
  "metadata": {
    "colab": {
      "name": "digits recognition.ipynb",
      "provenance": [],
      "authorship_tag": "ABX9TyO2YNU61vFd7q9Dby7IgdFO",
      "include_colab_link": true
    },
    "kernelspec": {
      "name": "python3",
      "display_name": "Python 3"
    }
  },
  "cells": [
    {
      "cell_type": "markdown",
      "metadata": {
        "id": "view-in-github",
        "colab_type": "text"
      },
      "source": [
        "<a href=\"https://colab.research.google.com/github/sebastianoscarlopez/learning-deep-learning/blob/master/digits_recognition.ipynb\" target=\"_parent\"><img src=\"https://colab.research.google.com/assets/colab-badge.svg\" alt=\"Open In Colab\"/></a>"
      ]
    },
    {
      "cell_type": "markdown",
      "metadata": {
        "id": "7HP-Dh_6ZckV",
        "colab_type": "text"
      },
      "source": [
        "# Description\n",
        "\n",
        "Digits recognition it is called the Hello World of Neural Network.\n",
        "\n",
        "Made using Python, numpy applied to MNIST dataset.\n",
        "\n",
        "It example is based on http://neuralnetworksanddeeplearning.com/chap1.html"
      ]
    },
    {
      "cell_type": "markdown",
      "metadata": {
        "colab_type": "text",
        "id": "wf2jrkItPrkd"
      },
      "source": [
        "# Preparation"
      ]
    },
    {
      "cell_type": "markdown",
      "metadata": {
        "id": "OjWQpXIVQAHM",
        "colab_type": "text"
      },
      "source": [
        "## Base libraries"
      ]
    },
    {
      "cell_type": "code",
      "metadata": {
        "id": "UBBnR-Fop9OL",
        "colab_type": "code",
        "colab": {}
      },
      "source": [
        "import numpy as np\n",
        "import matplotlib.pyplot as plt"
      ],
      "execution_count": 0,
      "outputs": []
    },
    {
      "cell_type": "markdown",
      "metadata": {
        "id": "E3-sDpO9PtIS",
        "colab_type": "text"
      },
      "source": [
        "## Load data"
      ]
    },
    {
      "cell_type": "code",
      "metadata": {
        "colab_type": "code",
        "id": "lME56oHNPlZ2",
        "colab": {}
      },
      "source": [
        "from sklearn.datasets import load_boston as load_boston\n",
        "boston = load_boston()"
      ],
      "execution_count": 0,
      "outputs": []
    },
    {
      "cell_type": "markdown",
      "metadata": {
        "id": "YC_M5N7_QNN1",
        "colab_type": "text"
      },
      "source": [
        "Description about data:"
      ]
    },
    {
      "cell_type": "markdown",
      "metadata": {
        "id": "5rl7Ib6hrPWy",
        "colab_type": "text"
      },
      "source": [
        "# Network design"
      ]
    },
    {
      "cell_type": "markdown",
      "metadata": {
        "id": "kZIlym0zrtBr",
        "colab_type": "text"
      },
      "source": [
        "Class wich made the network. The **sizes** parameter in its constructors is an array with the number of neurons on each layer"
      ]
    },
    {
      "cell_type": "code",
      "metadata": {
        "id": "5lSOB8zQrThg",
        "colab_type": "code",
        "colab": {}
      },
      "source": [
        "class Network(object):\n",
        "\n",
        "    def __init__(self, sizes):\n",
        "        self.num_layers = len(sizes)\n",
        "        self.sizes = sizes\n",
        "        self.biases = [np.random.randn(y, 1) for y in sizes[1:]]\n",
        "        self.weights = [np.random.randn(y, x) \n",
        "                        for x, y in zip(sizes[:-1], sizes[1:])]"
      ],
      "execution_count": 0,
      "outputs": []
    },
    {
      "cell_type": "markdown",
      "metadata": {
        "id": "RyP-PRcCshgu",
        "colab_type": "text"
      },
      "source": [
        "Sigmoid neuron $\\sigma(\\zeta) = \\frac{1}{1 + e^{-\\zeta}}$ where $-\\zeta = w.x + b$"
      ]
    },
    {
      "cell_type": "code",
      "metadata": {
        "id": "h-sm7xB8sCyS",
        "colab_type": "code",
        "colab": {}
      },
      "source": [
        "def sigmoid(z):\n",
        "    return 1.0/(1.0+np.exp(-z))"
      ],
      "execution_count": 0,
      "outputs": []
    }
  ]
}