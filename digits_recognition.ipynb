{
  "nbformat": 4,
  "nbformat_minor": 0,
  "metadata": {
    "colab": {
      "name": "digits recognition.ipynb",
      "provenance": [],
      "collapsed_sections": [],
      "toc_visible": true,
      "authorship_tag": "ABX9TyMJBrIr11kLmy7vYKYR8qqp",
      "include_colab_link": true
    },
    "kernelspec": {
      "name": "python3",
      "display_name": "Python 3"
    },
    "accelerator": "GPU"
  },
  "cells": [
    {
      "cell_type": "markdown",
      "metadata": {
        "id": "view-in-github",
        "colab_type": "text"
      },
      "source": [
        "<a href=\"https://colab.research.google.com/github/sebastianoscarlopez/learning-deep-learning/blob/master/digits_recognition.ipynb\" target=\"_parent\"><img src=\"https://colab.research.google.com/assets/colab-badge.svg\" alt=\"Open In Colab\"/></a>"
      ]
    },
    {
      "cell_type": "markdown",
      "metadata": {
        "id": "7HP-Dh_6ZckV",
        "colab_type": "text"
      },
      "source": [
        "# Description\n",
        "\n",
        "Digits recognition it is called the Hello World of Neural Network.\n",
        "\n",
        "Made using Python, numpy applied to MNIST dataset.\n",
        "\n",
        "It example is based on http://neuralnetworksanddeeplearning.com/chap1.html"
      ]
    },
    {
      "cell_type": "markdown",
      "metadata": {
        "colab_type": "text",
        "id": "wf2jrkItPrkd"
      },
      "source": [
        "# Preparation"
      ]
    },
    {
      "cell_type": "markdown",
      "metadata": {
        "id": "OjWQpXIVQAHM",
        "colab_type": "text"
      },
      "source": [
        "## Base libraries"
      ]
    },
    {
      "cell_type": "code",
      "metadata": {
        "id": "UBBnR-Fop9OL",
        "colab_type": "code",
        "colab": {}
      },
      "source": [
        "import numpy as np\n",
        "import matplotlib.pyplot as plt"
      ],
      "execution_count": 0,
      "outputs": []
    },
    {
      "cell_type": "markdown",
      "metadata": {
        "id": "E3-sDpO9PtIS",
        "colab_type": "text"
      },
      "source": [
        "## Load data"
      ]
    },
    {
      "cell_type": "markdown",
      "metadata": {
        "id": "YC_M5N7_QNN1",
        "colab_type": "text"
      },
      "source": [
        "**mnist_loader**\n",
        "\n",
        "A library to load the MNIST image data"
      ]
    },
    {
      "cell_type": "markdown",
      "metadata": {
        "id": "Oc7UHuIB0EX-",
        "colab_type": "text"
      },
      "source": [
        "data stored on training_data (50%),  validation_data (10%) and test_data (40%) "
      ]
    },
    {
      "cell_type": "code",
      "metadata": {
        "id": "hiQm4nv81nr-",
        "colab_type": "code",
        "colab": {
          "base_uri": "https://localhost:8080/",
          "height": 414
        },
        "outputId": "541702d6-a8d1-4370-cce7-ea6b6d2ee4d5"
      },
      "source": [
        "from keras.datasets import mnis\n",
        "(x_train, y_train), (x_test, y_test) = mnist.load_data()\n",
        "training_data = (x_train, y_train)\n",
        "test_data = (x_test, y_test)"
      ],
      "execution_count": 28,
      "outputs": [
        {
          "output_type": "stream",
          "text": [
            "Using TensorFlow backend.\n"
          ],
          "name": "stderr"
        },
        {
          "output_type": "display_data",
          "data": {
            "text/html": [
              "<p style=\"color: red;\">\n",
              "The default version of TensorFlow in Colab will soon switch to TensorFlow 2.x.<br>\n",
              "We recommend you <a href=\"https://www.tensorflow.org/guide/migrate\" target=\"_blank\">upgrade</a> now \n",
              "or ensure your notebook will continue to use TensorFlow 1.x via the <code>%tensorflow_version 1.x</code> magic:\n",
              "<a href=\"https://colab.research.google.com/notebooks/tensorflow_version.ipynb\" target=\"_blank\">more info</a>.</p>\n"
            ],
            "text/plain": [
              "<IPython.core.display.HTML object>"
            ]
          },
          "metadata": {
            "tags": []
          }
        },
        {
          "output_type": "error",
          "ename": "ImportError",
          "evalue": "ignored",
          "traceback": [
            "\u001b[0;31m---------------------------------------------------------------------------\u001b[0m",
            "\u001b[0;31mImportError\u001b[0m                               Traceback (most recent call last)",
            "\u001b[0;32m<ipython-input-28-b529831c4201>\u001b[0m in \u001b[0;36m<module>\u001b[0;34m()\u001b[0m\n\u001b[0;32m----> 1\u001b[0;31m \u001b[0;32mfrom\u001b[0m \u001b[0mkeras\u001b[0m\u001b[0;34m.\u001b[0m\u001b[0mdatasets\u001b[0m \u001b[0;32mimport\u001b[0m \u001b[0mmnis\u001b[0m\u001b[0;34m\u001b[0m\u001b[0;34m\u001b[0m\u001b[0m\n\u001b[0m\u001b[1;32m      2\u001b[0m \u001b[0;34m(\u001b[0m\u001b[0mx_train\u001b[0m\u001b[0;34m,\u001b[0m \u001b[0my_train\u001b[0m\u001b[0;34m)\u001b[0m\u001b[0;34m,\u001b[0m \u001b[0;34m(\u001b[0m\u001b[0mx_test\u001b[0m\u001b[0;34m,\u001b[0m \u001b[0my_test\u001b[0m\u001b[0;34m)\u001b[0m \u001b[0;34m=\u001b[0m \u001b[0mmnist\u001b[0m\u001b[0;34m.\u001b[0m\u001b[0mload_data\u001b[0m\u001b[0;34m(\u001b[0m\u001b[0;34m)\u001b[0m\u001b[0;34m\u001b[0m\u001b[0;34m\u001b[0m\u001b[0m\n\u001b[1;32m      3\u001b[0m \u001b[0mtraining_data\u001b[0m \u001b[0;34m=\u001b[0m \u001b[0;34m(\u001b[0m\u001b[0mx_train\u001b[0m\u001b[0;34m,\u001b[0m \u001b[0my_train\u001b[0m\u001b[0;34m)\u001b[0m\u001b[0;34m\u001b[0m\u001b[0;34m\u001b[0m\u001b[0m\n\u001b[1;32m      4\u001b[0m \u001b[0mtest_data\u001b[0m \u001b[0;34m=\u001b[0m \u001b[0;34m(\u001b[0m\u001b[0mx_test\u001b[0m\u001b[0;34m,\u001b[0m \u001b[0my_test\u001b[0m\u001b[0;34m)\u001b[0m\u001b[0;34m\u001b[0m\u001b[0;34m\u001b[0m\u001b[0m\n",
            "\u001b[0;31mImportError\u001b[0m: cannot import name 'mnis'",
            "",
            "\u001b[0;31m---------------------------------------------------------------------------\u001b[0;32m\nNOTE: If your import is failing due to a missing package, you can\nmanually install dependencies using either !pip or !apt.\n\nTo view examples of installing some common dependencies, click the\n\"Open Examples\" button below.\n\u001b[0;31m---------------------------------------------------------------------------\u001b[0m\n"
          ]
        }
      ]
    },
    {
      "cell_type": "markdown",
      "metadata": {
        "id": "5rl7Ib6hrPWy",
        "colab_type": "text"
      },
      "source": [
        "# Network design"
      ]
    },
    {
      "cell_type": "markdown",
      "metadata": {
        "id": "kZIlym0zrtBr",
        "colab_type": "text"
      },
      "source": [
        "Class wich made the network. The **sizes** parameter in its constructors is an array with the number of neurons on each layer"
      ]
    },
    {
      "cell_type": "code",
      "metadata": {
        "id": "5lSOB8zQrThg",
        "colab_type": "code",
        "colab": {}
      },
      "source": [
        "class Network(object):\n",
        "  def __init__(self, sizes):\n",
        "      self.num_layers = len(sizes)\n",
        "      self.sizes = sizes\n",
        "      self.biases = [np.random.randn(y, 1) for y in sizes[1:]]\n",
        "      self.weights = [np.random.randn(y, x) \n",
        "                      for x, y in zip(sizes[:-1], sizes[1:])]"
      ],
      "execution_count": 0,
      "outputs": []
    },
    {
      "cell_type": "markdown",
      "metadata": {
        "id": "7blpLN3yy5nr",
        "colab_type": "text"
      },
      "source": [
        "Trainning using Stochastic Gradient Descent.\n",
        "    \n",
        "training_data\" is a list of tuples \"(x, y)\" representing the training inputs and the desired outputs.\n",
        "\n",
        "epochs total of trainning.\n",
        "\n",
        "mini_batch_size indicated the group of data to be trainning together\n",
        "\n",
        "eta is the learning rate\n",
        "\n",
        "test_data is provided then the network will be evaluated against the test data after each epoch, and partial progress printed out.  This is useful for tracking progress, but slows things down substantially."
      ]
    },
    {
      "cell_type": "code",
      "metadata": {
        "id": "eGyngxxJyEfY",
        "colab_type": "code",
        "colab": {}
      },
      "source": [
        "  def SGD(self, training_data, epochs, mini_batch_size, eta, test_data=None):\n",
        "    if test_data: n_test = len(test_data)\n",
        "    n = len(training_data)\n",
        "    for j in xrange(epochs):\n",
        "        random.shuffle(training_data)\n",
        "        mini_batches = [\n",
        "            training_data[k:k+mini_batch_size]\n",
        "            for k in xrange(0, n, mini_batch_size)]\n",
        "        for mini_batch in mini_batches:\n",
        "            self.update_mini_batch(mini_batch, eta)\n",
        "        if test_data:\n",
        "            print(\"Epoch {0}: {1} / {2}\".format(j, self.evaluate(test_data), n_test))\n",
        "        else:\n",
        "            print(\"Epoch {0} complete\".format(j))"
      ],
      "execution_count": 0,
      "outputs": []
    },
    {
      "cell_type": "markdown",
      "metadata": {
        "id": "RLdL8ptkvE8b",
        "colab_type": "text"
      },
      "source": [
        "Given the input $x$ returns the output vector"
      ]
    },
    {
      "cell_type": "code",
      "metadata": {
        "id": "bXUIKWDWvHIo",
        "colab_type": "code",
        "colab": {}
      },
      "source": [
        "  def feedforward(self, x):\n",
        "    for b, w in zip(self.biases, self.weights):\n",
        "        x = sigmoid(np.dot(w, x)+b)\n",
        "    return x"
      ],
      "execution_count": 0,
      "outputs": []
    },
    {
      "cell_type": "markdown",
      "metadata": {
        "id": "5QBcS9JbaFHB",
        "colab_type": "text"
      },
      "source": [
        "Update the network's weights and biases by applying gradient descent using backpropagation to a single mini batch"
      ]
    },
    {
      "cell_type": "code",
      "metadata": {
        "id": "tYqkuUl0Z6fl",
        "colab_type": "code",
        "colab": {}
      },
      "source": [
        "  def update_mini_batch(self, mini_batch, eta):\n",
        "    nabla_b = [np.zeros(b.shape) for b in self.biases]\n",
        "    nabla_w = [np.zeros(w.shape) for w in self.weights]\n",
        "    for x, y in mini_batch:\n",
        "        delta_nabla_b, delta_nabla_w = self.backprop(x, y)\n",
        "        nabla_b = [nb+dnb for nb, dnb in zip(nabla_b, delta_nabla_b)]\n",
        "        nabla_w = [nw+dnw for nw, dnw in zip(nabla_w, delta_nabla_w)]\n",
        "    self.weights = [w-(eta/len(mini_batch))*nw \n",
        "                    for w, nw in zip(self.weights, nabla_w)]\n",
        "    self.biases = [b-(eta/len(mini_batch))*nb \n",
        "                    for b, nb in zip(self.biases, nabla_b)]"
      ],
      "execution_count": 0,
      "outputs": []
    },
    {
      "cell_type": "markdown",
      "metadata": {
        "id": "L_utRp-Vk5Fo",
        "colab_type": "text"
      },
      "source": [
        "Return a tuple $\\nabla a, \\nabla b$ representing the gradient for the cost function $C_x$"
      ]
    },
    {
      "cell_type": "code",
      "metadata": {
        "id": "h9sqqoMfbXfU",
        "colab_type": "code",
        "colab": {}
      },
      "source": [
        "    def backprop(self, x, y):\n",
        "      nabla_b = [np.zeros(b.shape) for b in self.biases]\n",
        "      nabla_w = [np.zeros(w.shape) for w in self.weights]\n",
        "      # feedforward\n",
        "      activation = x\n",
        "      activations = [x] # list to store all the activations, layer by layer\n",
        "      zs = [] # list to store all the z vectors, layer by layer\n",
        "      for b, w in zip(self.biases, self.weights):\n",
        "          z = np.dot(w, activation)+b\n",
        "          zs.append(z)\n",
        "          activation = sigmoid(z)\n",
        "          activations.append(activation)\n",
        "      # backward pass\n",
        "      delta = self.cost_derivative(activations[-1], y) * \\\n",
        "          sigmoid_prime(zs[-1])\n",
        "      nabla_b[-1] = delta\n",
        "      nabla_w[-1] = np.dot(delta, activations[-2].transpose())\n",
        "      # Note that the variable l in the loop below is used a little\n",
        "      # differently to the notation in Chapter 2 of the book.  Here,\n",
        "      # l = 1 means the last layer of neurons, l = 2 is the\n",
        "      # second-last layer, and so on.  It's a renumbering of the\n",
        "      # scheme in the book, used here to take advantage of the fact\n",
        "      # that Python can use negative indices in lists.\n",
        "      for l in xrange(2, self.num_layers):\n",
        "          z = zs[-l]\n",
        "          sp = sigmoid_prime(z)\n",
        "          delta = np.dot(self.weights[-l+1].transpose(), delta) * sp\n",
        "          nabla_b[-l] = delta\n",
        "          nabla_w[-l] = np.dot(delta, activations[-l-1].transpose())\n",
        "      return (nabla_b, nabla_w)"
      ],
      "execution_count": 0,
      "outputs": []
    },
    {
      "cell_type": "markdown",
      "metadata": {
        "id": "6aFCD3wUmm3m",
        "colab_type": "text"
      },
      "source": [
        "Return the number of test inputs for which the neural network outputs the correct result.\n",
        "\n",
        "The output will to be the neuron in the final layer that has the highest activation."
      ]
    },
    {
      "cell_type": "code",
      "metadata": {
        "id": "EIrLzk5Qm_o7",
        "colab_type": "code",
        "colab": {}
      },
      "source": [
        "  def evaluate(self, test_data):\n",
        "    test_results = [(np.argmax(self.feedforward(x)), y)\n",
        "                    for (x, y) in test_data]\n",
        "    return sum(int(x == y) for (x, y) in test_results)"
      ],
      "execution_count": 0,
      "outputs": []
    },
    {
      "cell_type": "markdown",
      "metadata": {
        "id": "IL7f07tHnpPr",
        "colab_type": "text"
      },
      "source": [
        "Return the vector of partial derivatives $\\partial C_x \\partial a$ for the output activations"
      ]
    },
    {
      "cell_type": "code",
      "metadata": {
        "id": "Bn6JLdDinrsQ",
        "colab_type": "code",
        "colab": {}
      },
      "source": [
        "  def cost_derivative(self, output_activations, y):\n",
        "    return (output_activations-y)"
      ],
      "execution_count": 0,
      "outputs": []
    },
    {
      "cell_type": "markdown",
      "metadata": {
        "id": "RyP-PRcCshgu",
        "colab_type": "text"
      },
      "source": [
        "Sigmoid neuron $\\sigma(\\zeta) = \\frac{1}{1 + e^{-\\zeta}}$ where $-\\zeta = w.x + b$"
      ]
    },
    {
      "cell_type": "code",
      "metadata": {
        "id": "h-sm7xB8sCyS",
        "colab_type": "code",
        "colab": {}
      },
      "source": [
        "  def sigmoid(z):\n",
        "    return 1.0/(1.0+np.exp(-z))"
      ],
      "execution_count": 0,
      "outputs": []
    },
    {
      "cell_type": "markdown",
      "metadata": {
        "id": "Y9DswPMXoryg",
        "colab_type": "text"
      },
      "source": [
        "$f'(\\sigma)$"
      ]
    },
    {
      "cell_type": "code",
      "metadata": {
        "id": "EMGBhiecok9A",
        "colab_type": "code",
        "colab": {}
      },
      "source": [
        "def sigmoid_prime(z):\n",
        "    return sigmoid(z)*(1-sigmoid(z))"
      ],
      "execution_count": 0,
      "outputs": []
    },
    {
      "cell_type": "markdown",
      "metadata": {
        "id": "e2yjgo3Ap6_d",
        "colab_type": "text"
      },
      "source": [
        "# Network creation"
      ]
    },
    {
      "cell_type": "markdown",
      "metadata": {
        "id": "b4tylZ4Urqjv",
        "colab_type": "text"
      },
      "source": [
        "Network with 3 layers\n",
        "input layer: $784 = 28 * 28$\n",
        "\n",
        "Hidden layer: only one with 30 neurons\n",
        "\n",
        "Output layer: 10 neurons representing 0-9"
      ]
    },
    {
      "cell_type": "code",
      "metadata": {
        "id": "CLxkisa-p6Gc",
        "colab_type": "code",
        "colab": {}
      },
      "source": [
        "net = Network([784, 30, 10])"
      ],
      "execution_count": 0,
      "outputs": []
    },
    {
      "cell_type": "markdown",
      "metadata": {
        "id": "wxmhH3gsppJC",
        "colab_type": "text"
      },
      "source": [
        "# Training"
      ]
    },
    {
      "cell_type": "code",
      "metadata": {
        "id": "ubezplagpxNE",
        "colab_type": "code",
        "colab": {
          "base_uri": "https://localhost:8080/",
          "height": 164
        },
        "outputId": "aebbd2e0-e72f-45fc-8c2e-1436472d3285"
      },
      "source": [
        "SGD(net, training_data, 30, 10, 3.0, test_data=test_data)"
      ],
      "execution_count": 27,
      "outputs": [
        {
          "output_type": "error",
          "ename": "NameError",
          "evalue": "ignored",
          "traceback": [
            "\u001b[0;31m---------------------------------------------------------------------------\u001b[0m",
            "\u001b[0;31mNameError\u001b[0m                                 Traceback (most recent call last)",
            "\u001b[0;32m<ipython-input-27-5b2fe196d2de>\u001b[0m in \u001b[0;36m<module>\u001b[0;34m()\u001b[0m\n\u001b[0;32m----> 1\u001b[0;31m \u001b[0mSGD\u001b[0m\u001b[0;34m(\u001b[0m\u001b[0mnet\u001b[0m\u001b[0;34m,\u001b[0m \u001b[0mtraining_data\u001b[0m\u001b[0;34m,\u001b[0m \u001b[0;36m30\u001b[0m\u001b[0;34m,\u001b[0m \u001b[0;36m10\u001b[0m\u001b[0;34m,\u001b[0m \u001b[0;36m3.0\u001b[0m\u001b[0;34m,\u001b[0m \u001b[0mtest_data\u001b[0m\u001b[0;34m=\u001b[0m\u001b[0mtest_data\u001b[0m\u001b[0;34m)\u001b[0m\u001b[0;34m\u001b[0m\u001b[0;34m\u001b[0m\u001b[0m\n\u001b[0m",
            "\u001b[0;31mNameError\u001b[0m: name 'training_data' is not defined"
          ]
        }
      ]
    }
  ]
}