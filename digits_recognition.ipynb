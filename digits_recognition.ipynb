{
  "nbformat": 4,
  "nbformat_minor": 0,
  "metadata": {
    "colab": {
      "name": "digits recognition.ipynb",
      "provenance": [],
      "collapsed_sections": [],
      "toc_visible": true,
      "mount_file_id": "https://github.com/sebastianoscarlopez/learning-deep-learning/blob/master/digits_recognition.ipynb",
      "authorship_tag": "ABX9TyN/YotqNuJbanNarMxOy7YQ",
      "include_colab_link": true
    },
    "kernelspec": {
      "name": "python3",
      "display_name": "Python 3"
    },
    "accelerator": "GPU"
  },
  "cells": [
    {
      "cell_type": "markdown",
      "metadata": {
        "id": "view-in-github",
        "colab_type": "text"
      },
      "source": [
        "<a href=\"https://colab.research.google.com/github/sebastianoscarlopez/learning-deep-learning/blob/master/digits_recognition.ipynb\" target=\"_parent\"><img src=\"https://colab.research.google.com/assets/colab-badge.svg\" alt=\"Open In Colab\"/></a>"
      ]
    },
    {
      "cell_type": "markdown",
      "metadata": {
        "id": "7HP-Dh_6ZckV",
        "colab_type": "text"
      },
      "source": [
        "# Description\n",
        "\n",
        "Digits recognition it is called the Hello World of Neural Network.\n",
        "\n",
        "Made using Python, numpy applied to MNIST dataset.\n",
        "\n",
        "It example is based on http://neuralnetworksanddeeplearning.com/chap1.html"
      ]
    },
    {
      "cell_type": "markdown",
      "metadata": {
        "colab_type": "text",
        "id": "wf2jrkItPrkd"
      },
      "source": [
        "# Preparation"
      ]
    },
    {
      "cell_type": "markdown",
      "metadata": {
        "id": "OjWQpXIVQAHM",
        "colab_type": "text"
      },
      "source": [
        "## Base libraries"
      ]
    },
    {
      "cell_type": "code",
      "metadata": {
        "id": "V6rkxiBZA_Tf",
        "colab_type": "code",
        "colab": {}
      },
      "source": [
        "%tensorflow_version 2.x"
      ],
      "execution_count": 0,
      "outputs": []
    },
    {
      "cell_type": "code",
      "metadata": {
        "id": "UBBnR-Fop9OL",
        "colab_type": "code",
        "colab": {
          "base_uri": "https://localhost:8080/",
          "height": 34
        },
        "outputId": "ac7019cf-ef8d-406d-aaea-1e47e0a9f3ee"
      },
      "source": [
        "import numpy as np\n",
        "import matplotlib.pyplot as plt\n",
        "import pickle\n",
        "import os\n",
        "\n",
        "from google.colab import drive\n",
        "drive.mount('/content/gdrive', force_remount=True)"
      ],
      "execution_count": 303,
      "outputs": [
        {
          "output_type": "stream",
          "text": [
            "Mounted at /content/gdrive\n"
          ],
          "name": "stdout"
        }
      ]
    },
    {
      "cell_type": "markdown",
      "metadata": {
        "id": "E3-sDpO9PtIS",
        "colab_type": "text"
      },
      "source": [
        "## Load data"
      ]
    },
    {
      "cell_type": "markdown",
      "metadata": {
        "id": "YC_M5N7_QNN1",
        "colab_type": "text"
      },
      "source": [
        "**mnist_loader**\n",
        "\n",
        "A library to load the MNIST image $28*28$ with digits"
      ]
    },
    {
      "cell_type": "markdown",
      "metadata": {
        "id": "Oc7UHuIB0EX-",
        "colab_type": "text"
      },
      "source": [
        "data stored on training_data (60%) test_data (10%), array image rearrange in vector of 784"
      ]
    },
    {
      "cell_type": "code",
      "metadata": {
        "id": "hiQm4nv81nr-",
        "colab_type": "code",
        "colab": {}
      },
      "source": [
        "from keras.datasets import mnist\n"
      ],
      "execution_count": 0,
      "outputs": []
    },
    {
      "cell_type": "markdown",
      "metadata": {
        "id": "30VBYRYPZhAc",
        "colab_type": "text"
      },
      "source": [
        "unit vector with a 1.0 in the jth position and zeroes elsewhere.\n",
        "\n",
        "Output layer are 10 neurons representing numbers from 0 to 9"
      ]
    },
    {
      "cell_type": "code",
      "metadata": {
        "id": "yIA70eakY4oB",
        "colab_type": "code",
        "colab": {}
      },
      "source": [
        "def vectorized_result(j):\n",
        "    \"\"\"Return a 10-dimensional unit vector with a 1.0 in the jth\n",
        "    position and zeroes elsewhere.  This is used to convert a digit\n",
        "    (0...9) into a corresponding desired output from the neural\n",
        "    network.\"\"\"\n",
        "    e = np.zeros((10, 1))\n",
        "    e[j] = 1.0\n",
        "    return e"
      ],
      "execution_count": 0,
      "outputs": []
    },
    {
      "cell_type": "code",
      "metadata": {
        "id": "sWfkDgb7A0fp",
        "colab_type": "code",
        "colab": {}
      },
      "source": [
        "(x_train, y_train), (x_test, y_test) = mnist.load_data()\n",
        "training_inputs = [ np.reshape(x, (784, 1)) for x in x_train ]\n",
        "training_results = [ vectorized_result(y) for y in y_train ]\n",
        "training_data = list(zip(training_inputs, training_results))#list(map(lambda x, y: [x, y], training_inputs, training_results))\n",
        "test_inputs = [ np.reshape(x, (784, 1)) for x in x_test ]\n",
        "test_data = list(zip(test_inputs, y_test)) #list(map(lambda x, y: [x, y], test_inputs, y_test))"
      ],
      "execution_count": 0,
      "outputs": []
    },
    {
      "cell_type": "markdown",
      "metadata": {
        "id": "5rl7Ib6hrPWy",
        "colab_type": "text"
      },
      "source": [
        "# Network design"
      ]
    },
    {
      "cell_type": "markdown",
      "metadata": {
        "id": "kZIlym0zrtBr",
        "colab_type": "text"
      },
      "source": [
        "Class wich made the network. The **sizes** parameter in its constructors is an array with the number of neurons on each layer"
      ]
    },
    {
      "cell_type": "code",
      "metadata": {
        "id": "5lSOB8zQrThg",
        "colab_type": "code",
        "colab": {}
      },
      "source": [
        "class Network(object):\n",
        "  def __init__(self, sizes):\n",
        "      self.num_layers = len(sizes)\n",
        "      self.sizes = sizes\n",
        "      self.biases = [np.random.randn(y, 1) for y in sizes[1:]]\n",
        "      self.weights = [np.random.randn(y, x) \n",
        "                      for x, y in zip(sizes[:-1], sizes[1:])]"
      ],
      "execution_count": 0,
      "outputs": []
    },
    {
      "cell_type": "markdown",
      "metadata": {
        "id": "7blpLN3yy5nr",
        "colab_type": "text"
      },
      "source": [
        "Trainning using Stochastic Gradient Descent.\n",
        "    \n",
        "training_data\" is a list of tuples \"(x, y)\" representing the training inputs and the desired outputs.\n",
        "\n",
        "epochs total of trainning.\n",
        "\n",
        "mini_batch_size indicated the group of data to be trainning together\n",
        "\n",
        "eta is the learning rate"
      ]
    },
    {
      "cell_type": "code",
      "metadata": {
        "id": "eGyngxxJyEfY",
        "colab_type": "code",
        "colab": {}
      },
      "source": [
        "class Network(Network):\n",
        "  def SGD(self, training_data, epochs, mini_batch_size, eta, progress_callback = None):\n",
        "    n = len(training_data)\n",
        "    for j in range(epochs):\n",
        "        np.random.shuffle(training_data)\n",
        "        progress_callback(j, False)\n",
        "        mini_batches = [\n",
        "            training_data[k:k+mini_batch_size]\n",
        "            for k in range(0, n, mini_batch_size)]\n",
        "        for mini_batch in mini_batches:\n",
        "            self.update_mini_batch(mini_batch, eta)\n",
        "        if progress_callback:\n",
        "          progress_callback(j, True)"
      ],
      "execution_count": 0,
      "outputs": []
    },
    {
      "cell_type": "markdown",
      "metadata": {
        "id": "RLdL8ptkvE8b",
        "colab_type": "text"
      },
      "source": [
        "Given the input $x$ returns the output vector"
      ]
    },
    {
      "cell_type": "code",
      "metadata": {
        "id": "bXUIKWDWvHIo",
        "colab_type": "code",
        "colab": {}
      },
      "source": [
        "class Network(Network):\n",
        "  def feedforward(self, x):\n",
        "    for b, w in zip(self.biases, self.weights):\n",
        "        x = self.sigmoid(np.dot(w, x)+b)\n",
        "    return x"
      ],
      "execution_count": 0,
      "outputs": []
    },
    {
      "cell_type": "markdown",
      "metadata": {
        "id": "5QBcS9JbaFHB",
        "colab_type": "text"
      },
      "source": [
        "Update the network's weights and biases by applying gradient descent using backpropagation to a single mini batch"
      ]
    },
    {
      "cell_type": "code",
      "metadata": {
        "id": "tYqkuUl0Z6fl",
        "colab_type": "code",
        "colab": {}
      },
      "source": [
        "class Network(Network):\n",
        "  def update_mini_batch(self, mini_batch, eta):\n",
        "    nabla_b = [np.zeros(b.shape) for b in self.biases]\n",
        "    nabla_w = [np.zeros(w.shape) for w in self.weights]\n",
        "    for x, y in mini_batch:\n",
        "        delta_nabla_b, delta_nabla_w = self.backprop(x, y)\n",
        "        nabla_b = [nb+dnb for nb, dnb in zip(nabla_b, delta_nabla_b)]\n",
        "        nabla_w = [nw+dnw for nw, dnw in zip(nabla_w, delta_nabla_w)]\n",
        "    self.weights = [w-(eta/len(mini_batch))*nw \n",
        "                    for w, nw in zip(self.weights, nabla_w)]\n",
        "    self.biases = [b-(eta/len(mini_batch))*nb \n",
        "                    for b, nb in zip(self.biases, nabla_b)]"
      ],
      "execution_count": 0,
      "outputs": []
    },
    {
      "cell_type": "markdown",
      "metadata": {
        "id": "L_utRp-Vk5Fo",
        "colab_type": "text"
      },
      "source": [
        "Return a tuple $\\nabla a, \\nabla b$ representing the gradient for the cost function $C_x$"
      ]
    },
    {
      "cell_type": "code",
      "metadata": {
        "id": "h9sqqoMfbXfU",
        "colab_type": "code",
        "colab": {}
      },
      "source": [
        "class Network(Network):\n",
        "    def backprop(self, x, y):\n",
        "      nabla_b = [np.zeros(b.shape) for b in self.biases]\n",
        "      nabla_w = [np.zeros(w.shape) for w in self.weights]\n",
        "      # feedforward\n",
        "      activation = x\n",
        "      activations = [x] # list to store all the activations, layer by layer\n",
        "      zs = [] # list to store all the z vectors, layer by layer\n",
        "      for b, w in zip(self.biases, self.weights):\n",
        "          z = np.dot(w, activation)+b\n",
        "          zs.append(z)\n",
        "          activation = self.sigmoid(z)\n",
        "          activations.append(activation)\n",
        "      # backward pass\n",
        "      delta = self.cost_derivative(activations[-1], y) * \\\n",
        "          self.sigmoid_prime(zs[-1])\n",
        "      nabla_b[-1] = delta\n",
        "      nabla_w[-1] = np.dot(delta, activations[-2].transpose())\n",
        "      # Note that the variable l in the loop below is used a little\n",
        "      # differently to the notation in Chapter 2 of the book.  Here,\n",
        "      # l = 1 means the last layer of neurons, l = 2 is the\n",
        "      # second-last layer, and so on.  It's a renumbering of the\n",
        "      # scheme in the book, used here to take advantage of the fact\n",
        "      # that Python can use negative indices in lists.\n",
        "      for l in range(2, self.num_layers):\n",
        "          z = zs[-l]\n",
        "          sp = self.sigmoid_prime(z)\n",
        "          delta = np.dot(self.weights[-l+1].transpose(), delta) * sp\n",
        "          nabla_b[-l] = delta\n",
        "          nabla_w[-l] = np.dot(delta, activations[-l-1].transpose())\n",
        "      return (nabla_b, nabla_w)"
      ],
      "execution_count": 0,
      "outputs": []
    },
    {
      "cell_type": "markdown",
      "metadata": {
        "id": "6aFCD3wUmm3m",
        "colab_type": "text"
      },
      "source": [
        "Return the number of test inputs for which the neural network outputs the correct result.\n",
        "\n",
        "The output will to be the neuron in the final layer that has the highest activation."
      ]
    },
    {
      "cell_type": "code",
      "metadata": {
        "id": "EIrLzk5Qm_o7",
        "colab_type": "code",
        "colab": {}
      },
      "source": [
        "class Network(Network):\n",
        "  def evaluate(self, test_data):\n",
        "    test_results = [(np.argmax(self.feedforward(x)), y)\n",
        "                    for (x, y) in test_data]\n",
        "    return sum(int(x == y) for (x, y) in test_results)"
      ],
      "execution_count": 0,
      "outputs": []
    },
    {
      "cell_type": "markdown",
      "metadata": {
        "id": "IL7f07tHnpPr",
        "colab_type": "text"
      },
      "source": [
        "Return the vector of partial derivatives $\\partial C_x \\partial a$ for the output activations"
      ]
    },
    {
      "cell_type": "code",
      "metadata": {
        "id": "Bn6JLdDinrsQ",
        "colab_type": "code",
        "colab": {}
      },
      "source": [
        "class Network(Network):\n",
        "  def cost_derivative(self, output_activations, y):\n",
        "    return (output_activations-y)"
      ],
      "execution_count": 0,
      "outputs": []
    },
    {
      "cell_type": "markdown",
      "metadata": {
        "id": "RyP-PRcCshgu",
        "colab_type": "text"
      },
      "source": [
        "Sigmoid neuron $\\sigma(\\zeta) = \\frac{1}{1 + e^{-\\zeta}}$ where $-\\zeta = w.x + b$"
      ]
    },
    {
      "cell_type": "code",
      "metadata": {
        "id": "h-sm7xB8sCyS",
        "colab_type": "code",
        "colab": {}
      },
      "source": [
        "class Network(Network):\n",
        "  def sigmoid(self, z):\n",
        "    return 1.0/(1.0+np.exp(-z))"
      ],
      "execution_count": 0,
      "outputs": []
    },
    {
      "cell_type": "markdown",
      "metadata": {
        "id": "Y9DswPMXoryg",
        "colab_type": "text"
      },
      "source": [
        "$f'(\\sigma)$"
      ]
    },
    {
      "cell_type": "code",
      "metadata": {
        "id": "EMGBhiecok9A",
        "colab_type": "code",
        "colab": {}
      },
      "source": [
        "class Network(Network):\n",
        "  def sigmoid_prime(self, z):\n",
        "    return self.sigmoid(z)*(1-self.sigmoid(z))"
      ],
      "execution_count": 0,
      "outputs": []
    },
    {
      "cell_type": "markdown",
      "metadata": {
        "id": "e2yjgo3Ap6_d",
        "colab_type": "text"
      },
      "source": [
        "# Network creation"
      ]
    },
    {
      "cell_type": "markdown",
      "metadata": {
        "id": "b4tylZ4Urqjv",
        "colab_type": "text"
      },
      "source": [
        "Network with 3 layers\n",
        "input layer: $784 = 28 * 28$\n",
        "\n",
        "Hidden layer: only one with 30 neurons\n",
        "\n",
        "Output layer: 10 neurons representing 0-9"
      ]
    },
    {
      "cell_type": "code",
      "metadata": {
        "id": "CLxkisa-p6Gc",
        "colab_type": "code",
        "colab": {}
      },
      "source": [
        "net = Network([784, 30, 10])"
      ],
      "execution_count": 0,
      "outputs": []
    },
    {
      "cell_type": "markdown",
      "metadata": {
        "id": "wxmhH3gsppJC",
        "colab_type": "text"
      },
      "source": [
        "# Training"
      ]
    },
    {
      "cell_type": "code",
      "metadata": {
        "id": "wnWEKRoN5SQ7",
        "colab_type": "code",
        "colab": {}
      },
      "source": [
        "path_folder = '/content/gdrive/My Drive/Colab'\n",
        "model_name = 'digits_recognition.model'\n",
        "path_model = f'{path_folder}/{model_name}'"
      ],
      "execution_count": 0,
      "outputs": []
    },
    {
      "cell_type": "code",
      "metadata": {
        "id": "l7UKiPVeDduO",
        "colab_type": "code",
        "colab": {}
      },
      "source": [
        "def save_model():\n",
        "  model_stream = open(path,\"wb\")\n",
        "  current_model = [net.weights, net.biases]\n",
        "  pickle.dump(current_model, model_stream)\n",
        "  model_stream.close()"
      ],
      "execution_count": 0,
      "outputs": []
    },
    {
      "cell_type": "code",
      "metadata": {
        "id": "q_saeoquR0FF",
        "colab_type": "code",
        "colab": {}
      },
      "source": [
        "def load_model():\n",
        "  print(path_model)\n",
        "  model_stream = open(path_model,\"rb\")\n",
        "  current_model = pickle.load(model_stream)\n",
        "  model_stream.close()\n",
        "  net.weights = current_model[0]\n",
        "  net.biases = current_model[1]\n",
        "  net.num_layers = len(net.weights) + 1"
      ],
      "execution_count": 0,
      "outputs": []
    },
    {
      "cell_type": "markdown",
      "metadata": {
        "id": "x6q1DaxZn5XP",
        "colab_type": "text"
      },
      "source": [
        "The network will be evaluated against the test data after each epoch. This is useful for tracking progress, but slows things down substantially.\n",
        "It will save the model"
      ]
    },
    {
      "cell_type": "code",
      "metadata": {
        "id": "ScW01T-dmqFf",
        "colab_type": "code",
        "colab": {}
      },
      "source": [
        "def progress_callback(epoch, is_complete):\n",
        "  save_model()\n",
        "  if epoch == 0 and not is_complete:\n",
        "    print(\".Start {0} / {1}\".format(net.evaluate(test_data), len(test_data)))\n",
        "  if is_complete:\n",
        "    print(\"Epoch {0}: {1} / {2}\".format(epoch, net.evaluate(test_data), len(test_data)))"
      ],
      "execution_count": 0,
      "outputs": []
    },
    {
      "cell_type": "markdown",
      "metadata": {
        "id": "JaiJOBmnqsis",
        "colab_type": "text"
      },
      "source": [
        "Load previous model saved"
      ]
    },
    {
      "cell_type": "code",
      "metadata": {
        "id": "26Dg0htKqn6V",
        "colab_type": "code",
        "colab": {
          "base_uri": "https://localhost:8080/",
          "height": 34
        },
        "outputId": "7e079596-5e3b-4a2c-85f6-263cfa8f5c93"
      },
      "source": [
        "if os.path.exists(path_model):\n",
        "  load_model()"
      ],
      "execution_count": 321,
      "outputs": [
        {
          "output_type": "stream",
          "text": [
            "/content/gdrive/My Drive/Colab/digits_recognition.model\n"
          ],
          "name": "stdout"
        }
      ]
    },
    {
      "cell_type": "code",
      "metadata": {
        "id": "ubezplagpxNE",
        "colab_type": "code",
        "outputId": "9f6f38e7-5bb7-40b8-c0e4-f3eee54e8b41",
        "colab": {
          "base_uri": "https://localhost:8080/",
          "height": 392
        }
      },
      "source": [
        "net.SGD(training_data, 200, 100, 0.1, progress_callback)"
      ],
      "execution_count": 322,
      "outputs": [
        {
          "output_type": "stream",
          "text": [
            "/usr/local/lib/python3.6/dist-packages/ipykernel_launcher.py:3: RuntimeWarning: overflow encountered in exp\n",
            "  This is separate from the ipykernel package so we can avoid doing imports until\n"
          ],
          "name": "stderr"
        },
        {
          "output_type": "stream",
          "text": [
            ".Start 8770 / 10000\n"
          ],
          "name": "stdout"
        },
        {
          "output_type": "error",
          "ename": "KeyboardInterrupt",
          "evalue": "ignored",
          "traceback": [
            "\u001b[0;31m---------------------------------------------------------------------------\u001b[0m",
            "\u001b[0;31mKeyboardInterrupt\u001b[0m                         Traceback (most recent call last)",
            "\u001b[0;32m<ipython-input-322-805b3ad66cd1>\u001b[0m in \u001b[0;36m<module>\u001b[0;34m()\u001b[0m\n\u001b[0;32m----> 1\u001b[0;31m \u001b[0mnet\u001b[0m\u001b[0;34m.\u001b[0m\u001b[0mSGD\u001b[0m\u001b[0;34m(\u001b[0m\u001b[0mtraining_data\u001b[0m\u001b[0;34m,\u001b[0m \u001b[0;36m200\u001b[0m\u001b[0;34m,\u001b[0m \u001b[0;36m100\u001b[0m\u001b[0;34m,\u001b[0m \u001b[0;36m0.1\u001b[0m\u001b[0;34m,\u001b[0m \u001b[0mprogress_callback\u001b[0m\u001b[0;34m)\u001b[0m\u001b[0;34m\u001b[0m\u001b[0;34m\u001b[0m\u001b[0m\n\u001b[0m",
            "\u001b[0;32m<ipython-input-308-616e6b41b97f>\u001b[0m in \u001b[0;36mSGD\u001b[0;34m(self, training_data, epochs, mini_batch_size, eta, progress_callback)\u001b[0m\n\u001b[1;32m      9\u001b[0m             for k in range(0, n, mini_batch_size)]\n\u001b[1;32m     10\u001b[0m         \u001b[0;32mfor\u001b[0m \u001b[0mmini_batch\u001b[0m \u001b[0;32min\u001b[0m \u001b[0mmini_batches\u001b[0m\u001b[0;34m:\u001b[0m\u001b[0;34m\u001b[0m\u001b[0;34m\u001b[0m\u001b[0m\n\u001b[0;32m---> 11\u001b[0;31m             \u001b[0mself\u001b[0m\u001b[0;34m.\u001b[0m\u001b[0mupdate_mini_batch\u001b[0m\u001b[0;34m(\u001b[0m\u001b[0mmini_batch\u001b[0m\u001b[0;34m,\u001b[0m \u001b[0meta\u001b[0m\u001b[0;34m)\u001b[0m\u001b[0;34m\u001b[0m\u001b[0;34m\u001b[0m\u001b[0m\n\u001b[0m\u001b[1;32m     12\u001b[0m         \u001b[0;32mif\u001b[0m \u001b[0mprogress_callback\u001b[0m\u001b[0;34m:\u001b[0m\u001b[0;34m\u001b[0m\u001b[0;34m\u001b[0m\u001b[0m\n\u001b[1;32m     13\u001b[0m           \u001b[0mprogress_callback\u001b[0m\u001b[0;34m(\u001b[0m\u001b[0mj\u001b[0m\u001b[0;34m,\u001b[0m \u001b[0;32mTrue\u001b[0m\u001b[0;34m)\u001b[0m\u001b[0;34m\u001b[0m\u001b[0;34m\u001b[0m\u001b[0m\n",
            "\u001b[0;32m<ipython-input-310-a8ccf8286771>\u001b[0m in \u001b[0;36mupdate_mini_batch\u001b[0;34m(self, mini_batch, eta)\u001b[0m\n\u001b[1;32m      4\u001b[0m     \u001b[0mnabla_w\u001b[0m \u001b[0;34m=\u001b[0m \u001b[0;34m[\u001b[0m\u001b[0mnp\u001b[0m\u001b[0;34m.\u001b[0m\u001b[0mzeros\u001b[0m\u001b[0;34m(\u001b[0m\u001b[0mw\u001b[0m\u001b[0;34m.\u001b[0m\u001b[0mshape\u001b[0m\u001b[0;34m)\u001b[0m \u001b[0;32mfor\u001b[0m \u001b[0mw\u001b[0m \u001b[0;32min\u001b[0m \u001b[0mself\u001b[0m\u001b[0;34m.\u001b[0m\u001b[0mweights\u001b[0m\u001b[0;34m]\u001b[0m\u001b[0;34m\u001b[0m\u001b[0;34m\u001b[0m\u001b[0m\n\u001b[1;32m      5\u001b[0m     \u001b[0;32mfor\u001b[0m \u001b[0mx\u001b[0m\u001b[0;34m,\u001b[0m \u001b[0my\u001b[0m \u001b[0;32min\u001b[0m \u001b[0mmini_batch\u001b[0m\u001b[0;34m:\u001b[0m\u001b[0;34m\u001b[0m\u001b[0;34m\u001b[0m\u001b[0m\n\u001b[0;32m----> 6\u001b[0;31m         \u001b[0mdelta_nabla_b\u001b[0m\u001b[0;34m,\u001b[0m \u001b[0mdelta_nabla_w\u001b[0m \u001b[0;34m=\u001b[0m \u001b[0mself\u001b[0m\u001b[0;34m.\u001b[0m\u001b[0mbackprop\u001b[0m\u001b[0;34m(\u001b[0m\u001b[0mx\u001b[0m\u001b[0;34m,\u001b[0m \u001b[0my\u001b[0m\u001b[0;34m)\u001b[0m\u001b[0;34m\u001b[0m\u001b[0;34m\u001b[0m\u001b[0m\n\u001b[0m\u001b[1;32m      7\u001b[0m         \u001b[0mnabla_b\u001b[0m \u001b[0;34m=\u001b[0m \u001b[0;34m[\u001b[0m\u001b[0mnb\u001b[0m\u001b[0;34m+\u001b[0m\u001b[0mdnb\u001b[0m \u001b[0;32mfor\u001b[0m \u001b[0mnb\u001b[0m\u001b[0;34m,\u001b[0m \u001b[0mdnb\u001b[0m \u001b[0;32min\u001b[0m \u001b[0mzip\u001b[0m\u001b[0;34m(\u001b[0m\u001b[0mnabla_b\u001b[0m\u001b[0;34m,\u001b[0m \u001b[0mdelta_nabla_b\u001b[0m\u001b[0;34m)\u001b[0m\u001b[0;34m]\u001b[0m\u001b[0;34m\u001b[0m\u001b[0;34m\u001b[0m\u001b[0m\n\u001b[1;32m      8\u001b[0m         \u001b[0mnabla_w\u001b[0m \u001b[0;34m=\u001b[0m \u001b[0;34m[\u001b[0m\u001b[0mnw\u001b[0m\u001b[0;34m+\u001b[0m\u001b[0mdnw\u001b[0m \u001b[0;32mfor\u001b[0m \u001b[0mnw\u001b[0m\u001b[0;34m,\u001b[0m \u001b[0mdnw\u001b[0m \u001b[0;32min\u001b[0m \u001b[0mzip\u001b[0m\u001b[0;34m(\u001b[0m\u001b[0mnabla_w\u001b[0m\u001b[0;34m,\u001b[0m \u001b[0mdelta_nabla_w\u001b[0m\u001b[0;34m)\u001b[0m\u001b[0;34m]\u001b[0m\u001b[0;34m\u001b[0m\u001b[0;34m\u001b[0m\u001b[0m\n",
            "\u001b[0;32m<ipython-input-311-4c2694086ade>\u001b[0m in \u001b[0;36mbackprop\u001b[0;34m(self, x, y)\u001b[0m\n\u001b[1;32m      8\u001b[0m       \u001b[0mzs\u001b[0m \u001b[0;34m=\u001b[0m \u001b[0;34m[\u001b[0m\u001b[0;34m]\u001b[0m \u001b[0;31m# list to store all the z vectors, layer by layer\u001b[0m\u001b[0;34m\u001b[0m\u001b[0;34m\u001b[0m\u001b[0m\n\u001b[1;32m      9\u001b[0m       \u001b[0;32mfor\u001b[0m \u001b[0mb\u001b[0m\u001b[0;34m,\u001b[0m \u001b[0mw\u001b[0m \u001b[0;32min\u001b[0m \u001b[0mzip\u001b[0m\u001b[0;34m(\u001b[0m\u001b[0mself\u001b[0m\u001b[0;34m.\u001b[0m\u001b[0mbiases\u001b[0m\u001b[0;34m,\u001b[0m \u001b[0mself\u001b[0m\u001b[0;34m.\u001b[0m\u001b[0mweights\u001b[0m\u001b[0;34m)\u001b[0m\u001b[0;34m:\u001b[0m\u001b[0;34m\u001b[0m\u001b[0;34m\u001b[0m\u001b[0m\n\u001b[0;32m---> 10\u001b[0;31m           \u001b[0mz\u001b[0m \u001b[0;34m=\u001b[0m \u001b[0mnp\u001b[0m\u001b[0;34m.\u001b[0m\u001b[0mdot\u001b[0m\u001b[0;34m(\u001b[0m\u001b[0mw\u001b[0m\u001b[0;34m,\u001b[0m \u001b[0mactivation\u001b[0m\u001b[0;34m)\u001b[0m\u001b[0;34m+\u001b[0m\u001b[0mb\u001b[0m\u001b[0;34m\u001b[0m\u001b[0;34m\u001b[0m\u001b[0m\n\u001b[0m\u001b[1;32m     11\u001b[0m           \u001b[0mzs\u001b[0m\u001b[0;34m.\u001b[0m\u001b[0mappend\u001b[0m\u001b[0;34m(\u001b[0m\u001b[0mz\u001b[0m\u001b[0;34m)\u001b[0m\u001b[0;34m\u001b[0m\u001b[0;34m\u001b[0m\u001b[0m\n\u001b[1;32m     12\u001b[0m           \u001b[0mactivation\u001b[0m \u001b[0;34m=\u001b[0m \u001b[0mself\u001b[0m\u001b[0;34m.\u001b[0m\u001b[0msigmoid\u001b[0m\u001b[0;34m(\u001b[0m\u001b[0mz\u001b[0m\u001b[0;34m)\u001b[0m\u001b[0;34m\u001b[0m\u001b[0;34m\u001b[0m\u001b[0m\n",
            "\u001b[0;32m<__array_function__ internals>\u001b[0m in \u001b[0;36mdot\u001b[0;34m(*args, **kwargs)\u001b[0m\n",
            "\u001b[0;31mKeyboardInterrupt\u001b[0m: "
          ]
        }
      ]
    },
    {
      "cell_type": "markdown",
      "metadata": {
        "id": "k2lAcUShGx-P",
        "colab_type": "text"
      },
      "source": [
        "A custom 5 digit for validate model"
      ]
    },
    {
      "cell_type": "code",
      "metadata": {
        "id": "W95pwAEDNLqu",
        "colab_type": "code",
        "colab": {}
      },
      "source": [
        "print(test_data[0][0].shape)"
      ],
      "execution_count": 0,
      "outputs": []
    },
    {
      "cell_type": "code",
      "metadata": {
        "id": "eukAImeA6rOP",
        "colab_type": "code",
        "colab": {
          "base_uri": "https://localhost:8080/",
          "height": 316
        },
        "outputId": "d56cf81f-8383-49b2-dbd6-c11ce33856cb"
      },
      "source": [
        "def validationData():\n",
        "  image_name = '5_2.bmp'\n",
        "  path_image = f'{path_folder}/{image_name}'\n",
        "  image_stream = open(path_image,\"rb\")\n",
        "  ba = bytearray(image_stream.read())\n",
        "  pixels = np.flip(np.array(ba[len(ba)-784:]).reshape((28, 28)), 0)\n",
        "  plt.imshow(pixels, cmap='gray')\n",
        "  x = pixels.reshape((784,1))\n",
        "  result = net.sigmoid(np.dot(net.weights[0], x) + net.biases[0])\n",
        "  result = net.sigmoid(np.dot(net.weights[1], result) + net.biases[1])\n",
        "  result = np.argmax(result)\n",
        "  print(result)\n",
        "\n",
        "  plt.show()\n",
        "validationData()"
      ],
      "execution_count": 324,
      "outputs": [
        {
          "output_type": "stream",
          "text": [
            "3\n"
          ],
          "name": "stdout"
        },
        {
          "output_type": "stream",
          "text": [
            "/usr/local/lib/python3.6/dist-packages/ipykernel_launcher.py:3: RuntimeWarning: overflow encountered in exp\n",
            "  This is separate from the ipykernel package so we can avoid doing imports until\n"
          ],
          "name": "stderr"
        },
        {
          "output_type": "display_data",
          "data": {
            "image/png": "[encoded data removed]",
            "text/plain": [
              "<Figure size 432x288 with 1 Axes>"
            ]
          },
          "metadata": {
            "tags": []
          }
        }
      ]
    },
    {
      "cell_type": "code",
      "metadata": {
        "id": "mZyYZDGP1BZQ",
        "colab_type": "code",
        "colab": {}
      },
      "source": [
        "def draw(input, label, output):\n",
        "  image = np.reshape(input, (28, 28))\n",
        "  image = np.array(image, dtype='float')\n",
        "  pixels = image.reshape((28, 28))\n",
        "  plt.imshow(pixels, cmap='gray')\n",
        "  plt.show()\n",
        "  print(\"{0} - {1}\".format(label, output))\n",
        "\n",
        "        draw(test_data[0][0], test_data[0][1], self.evaluate(test_data))"
      ],
      "execution_count": 0,
      "outputs": []
    }
  ]
}